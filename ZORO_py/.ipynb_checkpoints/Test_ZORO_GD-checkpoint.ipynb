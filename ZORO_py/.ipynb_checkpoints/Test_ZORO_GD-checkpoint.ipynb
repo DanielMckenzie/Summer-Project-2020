{
 "cells": [
  {
   "cell_type": "code",
   "execution_count": 56,
   "metadata": {},
   "outputs": [],
   "source": [
    "import numpy as np\n",
    "import matplotlib.pyplot as plt\n",
    "'''\n",
    "Simple version of Zeroth Order Regularized Optimization (ZORO) based on CoSaMP\n",
    "and tests on QP\n",
    "by Yuchen Lou 2020.7\n",
    "'''"
   ]
  },
  {
   "cell_type": "code",
   "execution_count": 57,
   "metadata": {},
   "outputs": [],
   "source": [
    "def SparseQuadratic(x_in,S,D,sigma):\n",
    "    '''\n",
    "    Function that calculates the noisy quadratic evaluation\n",
    "    val = x^TQx, Q is diagonal with sparse value 1 entries\n",
    "    '''\n",
    "    noise  = sigma*np.random.randn()/np.sqrt(D)\n",
    "    b = np.zeros(D)\n",
    "    val = np.dot(x_in[S],x_in[S])+noise\n",
    "    grad = np.zeros(D)\n",
    "    grad[S] = 2*x_in[S]\n",
    "    return val,grad"
   ]
  },
  {
   "cell_type": "code",
   "execution_count": 58,
   "metadata": {},
   "outputs": [],
   "source": [
    "def cosamp(Phi, u, s, tol, max_iter):\n",
    "    #CoSaMP by rfmiotto from GitHub\n",
    "    #Copyright (c) 2019 rfmiotto\n",
    "    max_iter -= 1 # Correct the while loop\n",
    "    num_precision = 1e-12\n",
    "    a = np.zeros(Phi.shape[1])\n",
    "    v = u\n",
    "    iter = 0\n",
    "    halt = False\n",
    "    while not halt:\n",
    "        iter += 1\n",
    "        #print(\"Iteration {}\\r\".format(iter))\n",
    "        \n",
    "        y = abs(np.dot(np.transpose(Phi), v))\n",
    "        Omega = [i for (i, val) in enumerate(y) if val > np.sort(y)[::-1][2*s] and val > num_precision] # quivalent to below\n",
    "        #Omega = np.argwhere(y >= np.sort(y)[::-1][2*s] and y > num_precision)\n",
    "        T = np.union1d(Omega, a.nonzero()[0])\n",
    "        #T = np.union1d(Omega, T)\n",
    "        b = np.dot( np.linalg.pinv(Phi[:,T]), u )\n",
    "        igood = (abs(b) > np.sort(abs(b))[::-1][s]) & (abs(b) > num_precision)\n",
    "        T = T[igood]\n",
    "        a[T] = b[igood]\n",
    "        v = u - np.dot(Phi[:,T], b[igood])\n",
    "        \n",
    "        halt = np.linalg.norm(v)/np.linalg.norm(u) < tol or \\\n",
    "               iter > max_iter\n",
    "        \n",
    "    return a"
   ]
  },
  {
   "cell_type": "code",
   "execution_count": 59,
   "metadata": {},
   "outputs": [],
   "source": [
    "def CosampGradEstimate(x,num_samples,delta,S,D,sigma,tol,sparsity):\n",
    "    #Gradient estimation in ZORO, based on CoSaMP with Randemancher matrix\n",
    "    maxiterations = 10\n",
    "    Z = 2*(np.random.rand(num_samples,D) > 0.5)-1\n",
    "    y = np.zeros(num_samples)\n",
    "    \n",
    "    for i in range(num_samples):\n",
    "        y_temp, _ = SparseQuadratic(x + delta*np.transpose(Z[i,:]),S,D,sigma)\n",
    "        y_temp2, _ = SparseQuadratic(x,S,D,sigma)\n",
    "        y[i] = (y_temp-y_temp2) / (np.sqrt(num_samples)*delta)\n",
    "    \n",
    "    Z = Z/np.sqrt(num_samples)\n",
    "    grad_estimate = cosamp(Z,y,sparsity,tol,maxiterations)\n",
    "    \n",
    "    return grad_estimate\n",
    "    "
   ]
  },
  {
   "cell_type": "code",
   "execution_count": 60,
   "metadata": {},
   "outputs": [],
   "source": [
    "def ZerothOrderGD_CoSamp(num_iterations,step_size,x0,true_min,S,D,noise_level,num_samples, delta1,grad_estimate,tol):\n",
    "    #Gradient descent update based on the gradient estimation\n",
    "    x = x0\n",
    "    regret  = np.zeros(num_iterations)\n",
    "    gradient_norm = np.zeros(num_iterations)\n",
    "    sparsity = len(S)\n",
    "    \n",
    "    for i in range(num_iterations):\n",
    "        delta = delta1*np.linalg.norm(grad_estimate)\n",
    "        grad_estimate = CosampGradEstimate(x,num_samples,delta,S,D,noise_level,tol,sparsity)\n",
    "        x = x - step_size*grad_estimate\n",
    "        f_est,true_grad = SparseQuadratic(x,S,D,noise_level)\n",
    "        regret[i] = abs((f_est - true_min))\n",
    "        \n",
    "        if (sparsity == 0):\n",
    "            break\n",
    "\n",
    "    x_hat = x\n",
    "    f_hat, _ = SparseQuadratic(x_hat,S,D,0)\n",
    "    \n",
    "    return f_hat,x_hat,regret,gradient_norm\n",
    "        "
   ]
  },
  {
   "cell_type": "code",
   "execution_count": 61,
   "metadata": {},
   "outputs": [],
   "source": [
    "'''ZORO test on a QP'''\n",
    "D = 1000\n",
    "s = 150\n",
    "noise_level = 0.01\n",
    "S = np.random.choice(D, s, replace=False)\n",
    "\n",
    "num_samples = np.ceil(2*s*np.log(D))\n",
    "num_samples = int(num_samples)\n",
    "num_iterations  = 30\n",
    "delta1 = 0.0005\n",
    "step_size = 0.1\n",
    "x0 = np.random.randn(D)\n",
    "\n",
    "_, true_grad = SparseQuadratic(x0,S,D,noise_level)\n",
    "init_grad_estimate = np.linalg.norm(true_grad)\n",
    "true_min = 0\n",
    "\n",
    "tol = 5e-8\n",
    "\n",
    "f_hat_COSAMP,x_hat_COSAMP,regret_COSAMP,gradient_norm = ZerothOrderGD_CoSamp(num_iterations,step_size,x0,true_min,S,D,noise_level,num_samples, delta1,init_grad_estimate,tol)\n",
    "\n",
    "\n"
   ]
  },
  {
   "cell_type": "code",
   "execution_count": 62,
   "metadata": {},
   "outputs": [
    {
     "data": {
      "image/png": "[encoded data removed]",
      "text/plain": [
       "<Figure size 432x288 with 1 Axes>"
      ]
     },
     "metadata": {
      "needs_background": "light"
     },
     "output_type": "display_data"
    }
   ],
   "source": [
    "#Plot the results\n",
    "num_queries = num_samples*np.arange(1,num_iterations+1)\n",
    "plt.plot(num_queries,np.log(regret_COSAMP))\n",
    "plt.xlabel('Number of queries')\n",
    "plt.ylabel('Optimality gap')\n",
    "plt.show()"
   ]
  },
  {
   "cell_type": "code",
   "execution_count": null,
   "metadata": {},
   "outputs": [],
   "source": []
  }
 ],
 "metadata": {
  "kernelspec": {
   "display_name": "Python 3",
   "language": "python",
   "name": "python3"
  },
  "language_info": {
   "codemirror_mode": {
    "name": "ipython",
    "version": 3
   },
   "file_extension": ".py",
   "mimetype": "text/x-python",
   "name": "python",
   "nbconvert_exporter": "python",
   "pygments_lexer": "ipython3",
   "version": "3.7.3"
  }
 },
 "nbformat": 4,
 "nbformat_minor": 4
}
